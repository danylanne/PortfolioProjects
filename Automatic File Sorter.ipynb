{
 "cells": [
  {
   "cell_type": "code",
   "execution_count": 45,
   "id": "916f06e5-eb3c-4ee0-a805-646be3e7e173",
   "metadata": {},
   "outputs": [],
   "source": [
    "#Automatic File Sorter in File Explorer\n",
    "\n",
    "import os, shutil"
   ]
  },
  {
   "cell_type": "code",
   "execution_count": 47,
   "id": "6d0f9ce4-639a-4b48-8fbd-75ec43f788ae",
   "metadata": {},
   "outputs": [],
   "source": [
    "path = r\"C:/Users/LENOVO/Desktop/DATA ANALYTICS/5. Python/Automated File Sorter tutorial/\""
   ]
  },
  {
   "cell_type": "code",
   "execution_count": 49,
   "id": "cc29c923-8e02-47e1-a8d1-b99f57594bb4",
   "metadata": {},
   "outputs": [],
   "source": [
    "file_name = os.listdir(path)"
   ]
  },
  {
   "cell_type": "code",
   "execution_count": 51,
   "id": "151a5187-218d-45c8-be5e-f45df9f31af2",
   "metadata": {},
   "outputs": [],
   "source": [
    "folder_names = ['csv files', 'image files' , 'word files']\n",
    "\n",
    "for loop in range(0,3):\n",
    "    if not os.path.exists(path + folder_names[loop]):\n",
    "        os.makedirs(path + folder_names[loop])\n",
    "\n",
    "for file in file_name:\n",
    "    if \".csv\" in file and not os.path.exists(path + \"csv files/\" + file):\n",
    "        shutil.move(path + file, path + \"csv files/\" + file)\n",
    "    elif \".png\" in file and not os.path.exists(path + \"image files/\" + file):\n",
    "        shutil.move(path + file, path + \"image files/\" + file)\n",
    "    elif \".jpeg\" in file and not os.path.exists(path + \"image files/\" + file):\n",
    "        shutil.move(path + file, path + \"image files/\" + file)\n",
    "    elif \".docx\" in file and not os.path.exists(path + \"word files/\" + file):\n",
    "        shutil.move(path + file, path + \"word files/\" + file)"
   ]
  },
  {
   "cell_type": "code",
   "execution_count": null,
   "id": "a0b872b6-066a-469a-b3e0-54ddb0fc0d16",
   "metadata": {},
   "outputs": [],
   "source": []
  }
 ],
 "metadata": {
  "kernelspec": {
   "display_name": "Python 3 (ipykernel)",
   "language": "python",
   "name": "python3"
  },
  "language_info": {
   "codemirror_mode": {
    "name": "ipython",
    "version": 3
   },
   "file_extension": ".py",
   "mimetype": "text/x-python",
   "name": "python",
   "nbconvert_exporter": "python",
   "pygments_lexer": "ipython3",
   "version": "3.12.4"
  }
 },
 "nbformat": 4,
 "nbformat_minor": 5
}
